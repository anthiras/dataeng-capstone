{
 "metadata": {
  "language_info": {
   "codemirror_mode": {
    "name": "ipython",
    "version": 3
   },
   "file_extension": ".py",
   "mimetype": "text/x-python",
   "name": "python",
   "nbconvert_exporter": "python",
   "pygments_lexer": "ipython3",
   "version": "3.7.10"
  },
  "orig_nbformat": 2,
  "kernelspec": {
   "name": "python3710jvsc74a57bd01597187e86f3bb3d494a4f2164f3358209ba4f6d17b542d4a811da1613726c9c",
   "display_name": "Python 3.7.10 64-bit ('.venv': venv)"
  },
  "metadata": {
   "interpreter": {
    "hash": "1597187e86f3bb3d494a4f2164f3358209ba4f6d17b542d4a811da1613726c9c"
   }
  }
 },
 "nbformat": 4,
 "nbformat_minor": 2,
 "cells": [
  {
   "source": [
    "# Data exploration"
   ],
   "cell_type": "markdown",
   "metadata": {}
  },
  {
   "source": [
    "Here I take an initial look at the available data. I will only include a subset of the rows of the total data to get an idea about the contents. This way we don't need a Spark cluster but can simply use pandas on a local machine."
   ],
   "cell_type": "markdown",
   "metadata": {}
  },
  {
   "cell_type": "code",
   "execution_count": 2,
   "metadata": {},
   "outputs": [],
   "source": [
    "import json\n",
    "import pandas as pd\n",
    "import s3fs\n",
    "import config\n",
    "config.configure()"
   ]
  },
  {
   "source": [
    "## Airport data"
   ],
   "cell_type": "markdown",
   "metadata": {}
  },
  {
   "source": [
    "The airport data is in JSON format. Let's load it and have a look:"
   ],
   "cell_type": "markdown",
   "metadata": {}
  },
  {
   "cell_type": "code",
   "execution_count": 3,
   "metadata": {},
   "outputs": [
    {
     "output_type": "execute_result",
     "data": {
      "text/plain": [
       "      continent                              coordinates  elevation_ft  \\\n",
       "0            NA       -74.93360137939453, 40.07080078125          11.0   \n",
       "1            NA                   -101.473911, 38.704022        3435.0   \n",
       "2            NA              -151.695999146, 59.94919968         450.0   \n",
       "3            NA    -86.77030181884766, 34.86479949951172         820.0   \n",
       "4            NA                      -91.254898, 35.6087         237.0   \n",
       "...         ...                                      ...           ...   \n",
       "57416        AS                      122.3586, 40.542524           0.0   \n",
       "57417        AS   123.49600219726562, 41.784400939941406           NaN   \n",
       "57418        EU                        1.4825, 51.894444          40.0   \n",
       "57419        AF  47.296388888900005, -11.584277777799999          11.0   \n",
       "57420        AS                    130.270556, 30.784722         338.0   \n",
       "\n",
       "      gps_code iata_code    ident iso_country iso_region local_code  \\\n",
       "0          00A      None      00A          US      US-PA        00A   \n",
       "1         00AA      None     00AA          US      US-KS       00AA   \n",
       "2         00AK      None     00AK          US      US-AK       00AK   \n",
       "3         00AL      None     00AL          US      US-AL       00AL   \n",
       "4         None      None     00AR          US      US-AR       None   \n",
       "...        ...       ...      ...         ...        ...        ...   \n",
       "57416     ZYYK       YKH     ZYYK          CN      CN-21       None   \n",
       "57417     ZYYY      None     ZYYY          CN      CN-21       None   \n",
       "57418     None      None  ZZ-0001          GB     GB-ENG       None   \n",
       "57419     None      None  ZZ-0002          TF     TF-U-A       None   \n",
       "57420     RJX7      None     ZZZZ          JP      JP-46       RJX7   \n",
       "\n",
       "           municipality                                name            type  \n",
       "0              Bensalem                   Total Rf Heliport        heliport  \n",
       "1                 Leoti                Aero B Ranch Airport   small_airport  \n",
       "2          Anchor Point                        Lowell Field   small_airport  \n",
       "3               Harvest                        Epps Airpark   small_airport  \n",
       "4               Newport  Newport Hospital & Clinic Heliport          closed  \n",
       "...                 ...                                 ...             ...  \n",
       "57416           Yingkou               Yingkou Lanqi Airport  medium_airport  \n",
       "57417          Shenyang             Shenyang Dongta Airport  medium_airport  \n",
       "57418           Sealand                     Sealand Helipad        heliport  \n",
       "57419  Grande Glorieuse           Glorioso Islands Airstrip   small_airport  \n",
       "57420      Mishima-Mura             Satsuma IÅjima Airport   small_airport  \n",
       "\n",
       "[57421 rows x 12 columns]"
      ],
      "text/html": "<div>\n<style scoped>\n    .dataframe tbody tr th:only-of-type {\n        vertical-align: middle;\n    }\n\n    .dataframe tbody tr th {\n        vertical-align: top;\n    }\n\n    .dataframe thead th {\n        text-align: right;\n    }\n</style>\n<table border=\"1\" class=\"dataframe\">\n  <thead>\n    <tr style=\"text-align: right;\">\n      <th></th>\n      <th>continent</th>\n      <th>coordinates</th>\n      <th>elevation_ft</th>\n      <th>gps_code</th>\n      <th>iata_code</th>\n      <th>ident</th>\n      <th>iso_country</th>\n      <th>iso_region</th>\n      <th>local_code</th>\n      <th>municipality</th>\n      <th>name</th>\n      <th>type</th>\n    </tr>\n  </thead>\n  <tbody>\n    <tr>\n      <th>0</th>\n      <td>NA</td>\n      <td>-74.93360137939453, 40.07080078125</td>\n      <td>11.0</td>\n      <td>00A</td>\n      <td>None</td>\n      <td>00A</td>\n      <td>US</td>\n      <td>US-PA</td>\n      <td>00A</td>\n      <td>Bensalem</td>\n      <td>Total Rf Heliport</td>\n      <td>heliport</td>\n    </tr>\n    <tr>\n      <th>1</th>\n      <td>NA</td>\n      <td>-101.473911, 38.704022</td>\n      <td>3435.0</td>\n      <td>00AA</td>\n      <td>None</td>\n      <td>00AA</td>\n      <td>US</td>\n      <td>US-KS</td>\n      <td>00AA</td>\n      <td>Leoti</td>\n      <td>Aero B Ranch Airport</td>\n      <td>small_airport</td>\n    </tr>\n    <tr>\n      <th>2</th>\n      <td>NA</td>\n      <td>-151.695999146, 59.94919968</td>\n      <td>450.0</td>\n      <td>00AK</td>\n      <td>None</td>\n      <td>00AK</td>\n      <td>US</td>\n      <td>US-AK</td>\n      <td>00AK</td>\n      <td>Anchor Point</td>\n      <td>Lowell Field</td>\n      <td>small_airport</td>\n    </tr>\n    <tr>\n      <th>3</th>\n      <td>NA</td>\n      <td>-86.77030181884766, 34.86479949951172</td>\n      <td>820.0</td>\n      <td>00AL</td>\n      <td>None</td>\n      <td>00AL</td>\n      <td>US</td>\n      <td>US-AL</td>\n      <td>00AL</td>\n      <td>Harvest</td>\n      <td>Epps Airpark</td>\n      <td>small_airport</td>\n    </tr>\n    <tr>\n      <th>4</th>\n      <td>NA</td>\n      <td>-91.254898, 35.6087</td>\n      <td>237.0</td>\n      <td>None</td>\n      <td>None</td>\n      <td>00AR</td>\n      <td>US</td>\n      <td>US-AR</td>\n      <td>None</td>\n      <td>Newport</td>\n      <td>Newport Hospital &amp; Clinic Heliport</td>\n      <td>closed</td>\n    </tr>\n    <tr>\n      <th>...</th>\n      <td>...</td>\n      <td>...</td>\n      <td>...</td>\n      <td>...</td>\n      <td>...</td>\n      <td>...</td>\n      <td>...</td>\n      <td>...</td>\n      <td>...</td>\n      <td>...</td>\n      <td>...</td>\n      <td>...</td>\n    </tr>\n    <tr>\n      <th>57416</th>\n      <td>AS</td>\n      <td>122.3586, 40.542524</td>\n      <td>0.0</td>\n      <td>ZYYK</td>\n      <td>YKH</td>\n      <td>ZYYK</td>\n      <td>CN</td>\n      <td>CN-21</td>\n      <td>None</td>\n      <td>Yingkou</td>\n      <td>Yingkou Lanqi Airport</td>\n      <td>medium_airport</td>\n    </tr>\n    <tr>\n      <th>57417</th>\n      <td>AS</td>\n      <td>123.49600219726562, 41.784400939941406</td>\n      <td>NaN</td>\n      <td>ZYYY</td>\n      <td>None</td>\n      <td>ZYYY</td>\n      <td>CN</td>\n      <td>CN-21</td>\n      <td>None</td>\n      <td>Shenyang</td>\n      <td>Shenyang Dongta Airport</td>\n      <td>medium_airport</td>\n    </tr>\n    <tr>\n      <th>57418</th>\n      <td>EU</td>\n      <td>1.4825, 51.894444</td>\n      <td>40.0</td>\n      <td>None</td>\n      <td>None</td>\n      <td>ZZ-0001</td>\n      <td>GB</td>\n      <td>GB-ENG</td>\n      <td>None</td>\n      <td>Sealand</td>\n      <td>Sealand Helipad</td>\n      <td>heliport</td>\n    </tr>\n    <tr>\n      <th>57419</th>\n      <td>AF</td>\n      <td>47.296388888900005, -11.584277777799999</td>\n      <td>11.0</td>\n      <td>None</td>\n      <td>None</td>\n      <td>ZZ-0002</td>\n      <td>TF</td>\n      <td>TF-U-A</td>\n      <td>None</td>\n      <td>Grande Glorieuse</td>\n      <td>Glorioso Islands Airstrip</td>\n      <td>small_airport</td>\n    </tr>\n    <tr>\n      <th>57420</th>\n      <td>AS</td>\n      <td>130.270556, 30.784722</td>\n      <td>338.0</td>\n      <td>RJX7</td>\n      <td>None</td>\n      <td>ZZZZ</td>\n      <td>JP</td>\n      <td>JP-46</td>\n      <td>RJX7</td>\n      <td>Mishima-Mura</td>\n      <td>Satsuma IÅjima Airport</td>\n      <td>small_airport</td>\n    </tr>\n  </tbody>\n</table>\n<p>57421 rows × 12 columns</p>\n</div>"
     },
     "metadata": {},
     "execution_count": 3
    }
   ],
   "source": [
    "airports = pd.read_json('s3a://atr-udacity-dend/airport-codes.json')\n",
    "airports"
   ]
  },
  {
   "source": [
    "The dataset contains approx. 57,000 airports. The airports are identified with an \"ident\" code, and some airports also have an international 3-letter IATA code. Airports are categorized into heliport, small_airport, medium_airport etc. Additionally airports have a name and location data such as country, region, municipality, coordinates and elevation in feet.\n",
    "\n",
    "Looking closer at the columns reveals some columns are missing data, specifically elevation_ft, gps_code, iata_code, local_code, and municipality:"
   ],
   "cell_type": "markdown",
   "metadata": {}
  },
  {
   "cell_type": "code",
   "execution_count": 4,
   "metadata": {},
   "outputs": [
    {
     "output_type": "stream",
     "name": "stdout",
     "text": [
      "<class 'pandas.core.frame.DataFrame'>\nRangeIndex: 57421 entries, 0 to 57420\nData columns (total 12 columns):\n #   Column        Non-Null Count  Dtype  \n---  ------        --------------  -----  \n 0   continent     57421 non-null  object \n 1   coordinates   57421 non-null  object \n 2   elevation_ft  49608 non-null  float64\n 3   gps_code      41561 non-null  object \n 4   iata_code     9225 non-null   object \n 5   ident         57421 non-null  object \n 6   iso_country   57421 non-null  object \n 7   iso_region    57421 non-null  object \n 8   local_code    30030 non-null  object \n 9   municipality  51527 non-null  object \n 10  name          57421 non-null  object \n 11  type          57421 non-null  object \ndtypes: float64(1), object(11)\nmemory usage: 5.3+ MB\n"
     ]
    }
   ],
   "source": [
    "airports.info()"
   ]
  },
  {
   "cell_type": "code",
   "execution_count": null,
   "metadata": {},
   "outputs": [],
   "source": []
  },
  {
   "source": [
    "The ident column has no duplicates:"
   ],
   "cell_type": "markdown",
   "metadata": {}
  },
  {
   "cell_type": "code",
   "execution_count": 5,
   "metadata": {},
   "outputs": [
    {
     "output_type": "execute_result",
     "data": {
      "text/plain": [
       "57421"
      ]
     },
     "metadata": {},
     "execution_count": 5
    }
   ],
   "source": [
    "airports['ident'].nunique()"
   ]
  },
  {
   "source": [
    "The iata_code column does have some duplicates:"
   ],
   "cell_type": "markdown",
   "metadata": {}
  },
  {
   "cell_type": "code",
   "execution_count": 6,
   "metadata": {},
   "outputs": [
    {
     "output_type": "execute_result",
     "data": {
      "text/plain": [
       "0      75\n",
       "MPT     2\n",
       "YNT     2\n",
       "TFY     2\n",
       "SVD     2\n",
       "KCZ     2\n",
       "MRE     2\n",
       "VQS     2\n",
       "RTI     2\n",
       "SCR     2\n",
       "HKG     2\n",
       "ZRZ     2\n",
       "DDU     2\n",
       "PHM     2\n",
       "RZS     2\n",
       "NWT     2\n",
       "PRM     2\n",
       "ARX     2\n",
       "GGC     2\n",
       "MUC     2\n",
       "MNI     2\n",
       "YEH     2\n",
       "DZI     2\n",
       "KMM     2\n",
       "PCO     2\n",
       "ESP     2\n",
       "SGL     2\n",
       "LLJ     2\n",
       "KWB     2\n",
       "LHU     2\n",
       "YTY     2\n",
       "SHO     2\n",
       "LPE     2\n",
       "DLR     2\n",
       "MXR     2\n",
       "LMC     2\n",
       "IZA     2\n",
       "CLG     2\n",
       "AHT     2\n",
       "Name: iata_code, dtype: int64"
      ]
     },
     "metadata": {},
     "execution_count": 6
    }
   ],
   "source": [
    "iata_code_counts = airports['iata_code'].value_counts()\n",
    "iata_code_counts[iata_code_counts > 1]"
   ]
  },
  {
   "source": [
    "Looking at some of the duplicates does not reveal a simple reason, so I will have to deal with this inconsistency by simply ignoring one of the rows."
   ],
   "cell_type": "markdown",
   "metadata": {}
  },
  {
   "cell_type": "code",
   "execution_count": 7,
   "metadata": {},
   "outputs": [
    {
     "output_type": "execute_result",
     "data": {
      "text/plain": [
       "      continent                             coordinates  elevation_ft  \\\n",
       "24774        AS  125.00900268554688, -8.167739868164062         957.0   \n",
       "54534        AS                    125.214996, -8.97224           NaN   \n",
       "\n",
       "      gps_code iata_code   ident iso_country iso_region local_code  \\\n",
       "24774     None       MPT  ID-MPT          ID      ID-NT       None   \n",
       "54534     WPMN       MPT    WPMN          TL      TL-BO       None   \n",
       "\n",
       "              municipality             name           type  \n",
       "24774  Maliana-Alor Island  Maliana airport  small_airport  \n",
       "54534              Maliana  Maliana Airport  small_airport  "
      ],
      "text/html": "<div>\n<style scoped>\n    .dataframe tbody tr th:only-of-type {\n        vertical-align: middle;\n    }\n\n    .dataframe tbody tr th {\n        vertical-align: top;\n    }\n\n    .dataframe thead th {\n        text-align: right;\n    }\n</style>\n<table border=\"1\" class=\"dataframe\">\n  <thead>\n    <tr style=\"text-align: right;\">\n      <th></th>\n      <th>continent</th>\n      <th>coordinates</th>\n      <th>elevation_ft</th>\n      <th>gps_code</th>\n      <th>iata_code</th>\n      <th>ident</th>\n      <th>iso_country</th>\n      <th>iso_region</th>\n      <th>local_code</th>\n      <th>municipality</th>\n      <th>name</th>\n      <th>type</th>\n    </tr>\n  </thead>\n  <tbody>\n    <tr>\n      <th>24774</th>\n      <td>AS</td>\n      <td>125.00900268554688, -8.167739868164062</td>\n      <td>957.0</td>\n      <td>None</td>\n      <td>MPT</td>\n      <td>ID-MPT</td>\n      <td>ID</td>\n      <td>ID-NT</td>\n      <td>None</td>\n      <td>Maliana-Alor Island</td>\n      <td>Maliana airport</td>\n      <td>small_airport</td>\n    </tr>\n    <tr>\n      <th>54534</th>\n      <td>AS</td>\n      <td>125.214996, -8.97224</td>\n      <td>NaN</td>\n      <td>WPMN</td>\n      <td>MPT</td>\n      <td>WPMN</td>\n      <td>TL</td>\n      <td>TL-BO</td>\n      <td>None</td>\n      <td>Maliana</td>\n      <td>Maliana Airport</td>\n      <td>small_airport</td>\n    </tr>\n  </tbody>\n</table>\n</div>"
     },
     "metadata": {},
     "execution_count": 7
    }
   ],
   "source": [
    "airports[airports['iata_code'] == 'MPT']"
   ]
  },
  {
   "cell_type": "code",
   "execution_count": 8,
   "metadata": {},
   "outputs": [
    {
     "output_type": "execute_result",
     "data": {
      "text/plain": [
       "      continent           coordinates  elevation_ft gps_code iata_code  \\\n",
       "43233        NA      -75.772, 41.4802        1151.0     None       SCR   \n",
       "44104        EU  12.840676, 61.159092        1608.0     ESKS       SCR   \n",
       "\n",
       "         ident iso_country iso_region local_code       municipality  \\\n",
       "43233      SCR          US      US-PA       None           Scranton   \n",
       "44104  SE-0016          SE       SE-W       None  SÃ¤len and Trysil   \n",
       "\n",
       "                                 name            type  \n",
       "43233     Scranton Municipal Airport.          closed  \n",
       "44104  Scandinavian Mountains Airport  medium_airport  "
      ],
      "text/html": "<div>\n<style scoped>\n    .dataframe tbody tr th:only-of-type {\n        vertical-align: middle;\n    }\n\n    .dataframe tbody tr th {\n        vertical-align: top;\n    }\n\n    .dataframe thead th {\n        text-align: right;\n    }\n</style>\n<table border=\"1\" class=\"dataframe\">\n  <thead>\n    <tr style=\"text-align: right;\">\n      <th></th>\n      <th>continent</th>\n      <th>coordinates</th>\n      <th>elevation_ft</th>\n      <th>gps_code</th>\n      <th>iata_code</th>\n      <th>ident</th>\n      <th>iso_country</th>\n      <th>iso_region</th>\n      <th>local_code</th>\n      <th>municipality</th>\n      <th>name</th>\n      <th>type</th>\n    </tr>\n  </thead>\n  <tbody>\n    <tr>\n      <th>43233</th>\n      <td>NA</td>\n      <td>-75.772, 41.4802</td>\n      <td>1151.0</td>\n      <td>None</td>\n      <td>SCR</td>\n      <td>SCR</td>\n      <td>US</td>\n      <td>US-PA</td>\n      <td>None</td>\n      <td>Scranton</td>\n      <td>Scranton Municipal Airport.</td>\n      <td>closed</td>\n    </tr>\n    <tr>\n      <th>44104</th>\n      <td>EU</td>\n      <td>12.840676, 61.159092</td>\n      <td>1608.0</td>\n      <td>ESKS</td>\n      <td>SCR</td>\n      <td>SE-0016</td>\n      <td>SE</td>\n      <td>SE-W</td>\n      <td>None</td>\n      <td>SÃ¤len and Trysil</td>\n      <td>Scandinavian Mountains Airport</td>\n      <td>medium_airport</td>\n    </tr>\n  </tbody>\n</table>\n</div>"
     },
     "metadata": {},
     "execution_count": 8
    }
   ],
   "source": [
    "airports[airports['iata_code'] == 'SCR']"
   ]
  },
  {
   "source": [
    "For this project I am interested in U.S. airports, having an IATA code assigned. This code will be used later to look up airport data for flights.\n",
    "\n",
    "Let's reduce the dataset to US airports with an IATA code, and drop duplicates:"
   ],
   "cell_type": "markdown",
   "metadata": {}
  },
  {
   "cell_type": "code",
   "execution_count": 9,
   "metadata": {},
   "outputs": [
    {
     "output_type": "execute_result",
     "data": {
      "text/plain": [
       "      continent                             coordinates  elevation_ft  \\\n",
       "441          NA       -80.274803161621, 25.325399398804           8.0   \n",
       "598          NA                  -162.899994, 61.934601         305.0   \n",
       "677          NA                  -106.928341, 38.851918        8980.0   \n",
       "1094         NA  -98.62249755859999, 30.251800537100003        1515.0   \n",
       "1408         NA  -72.31140136719999, 42.223300933800004         418.0   \n",
       "...         ...                                     ...           ...   \n",
       "56907        NA            -133.79699707, 55.9663009644           0.0   \n",
       "56908        NA      -158.401000977, 56.295600891099994           NaN   \n",
       "56913        NA           -145.824005127, 66.2740020752         450.0   \n",
       "56915        NA           -145.294006348, 61.9412002563        1150.0   \n",
       "57238        NA           -159.994003296, 60.9807014465         460.0   \n",
       "\n",
       "      gps_code iata_code ident iso_country iso_region local_code  \\\n",
       "441       07FA       OCA  07FA          US      US-FL       07FA   \n",
       "598       None       PQS   0AK          US      US-AK        0AK   \n",
       "677       0CO2       CSE  0CO2          US      US-CO       0CO2   \n",
       "1094      0TE7       JCY  0TE7          US      US-TX       0TE7   \n",
       "1408      13MA       PMX  13MA          US      US-MA       13MA   \n",
       "...        ...       ...   ...         ...        ...        ...   \n",
       "56907      Z71       CZP   Z71          US      US-AK        Z71   \n",
       "56908      Z78       KBW   Z78          US      US-AK        Z78   \n",
       "56913      Z91       KBC   Z91          US      US-AK        Z91   \n",
       "56915      Z93       CZC   Z93          US      US-AK        Z93   \n",
       "57238      ZNC       ZNC   ZNC          US      US-AK        ZNC   \n",
       "\n",
       "        municipality                       name           type  \n",
       "441        Key Largo    Ocean Reef Club Airport  small_airport  \n",
       "598    Pilot Station      Pilot Station Airport  small_airport  \n",
       "677    Crested Butte      Crested Butte Airpark  small_airport  \n",
       "1094    Johnson City          LBJ Ranch Airport  small_airport  \n",
       "1408          Palmer       Metropolitan Airport  small_airport  \n",
       "...              ...                        ...            ...  \n",
       "56907      Cape Pole    Cape Pole Seaplane Base  seaplane_base  \n",
       "56908        Chignik  Chignik Bay Seaplane Base  seaplane_base  \n",
       "56913    Birch Creek        Birch Creek Airport  small_airport  \n",
       "56915  Copper Center    Copper Center 2 Airport  small_airport  \n",
       "57238           Nyac               Nyac Airport  small_airport  \n",
       "\n",
       "[2028 rows x 12 columns]"
      ],
      "text/html": "<div>\n<style scoped>\n    .dataframe tbody tr th:only-of-type {\n        vertical-align: middle;\n    }\n\n    .dataframe tbody tr th {\n        vertical-align: top;\n    }\n\n    .dataframe thead th {\n        text-align: right;\n    }\n</style>\n<table border=\"1\" class=\"dataframe\">\n  <thead>\n    <tr style=\"text-align: right;\">\n      <th></th>\n      <th>continent</th>\n      <th>coordinates</th>\n      <th>elevation_ft</th>\n      <th>gps_code</th>\n      <th>iata_code</th>\n      <th>ident</th>\n      <th>iso_country</th>\n      <th>iso_region</th>\n      <th>local_code</th>\n      <th>municipality</th>\n      <th>name</th>\n      <th>type</th>\n    </tr>\n  </thead>\n  <tbody>\n    <tr>\n      <th>441</th>\n      <td>NA</td>\n      <td>-80.274803161621, 25.325399398804</td>\n      <td>8.0</td>\n      <td>07FA</td>\n      <td>OCA</td>\n      <td>07FA</td>\n      <td>US</td>\n      <td>US-FL</td>\n      <td>07FA</td>\n      <td>Key Largo</td>\n      <td>Ocean Reef Club Airport</td>\n      <td>small_airport</td>\n    </tr>\n    <tr>\n      <th>598</th>\n      <td>NA</td>\n      <td>-162.899994, 61.934601</td>\n      <td>305.0</td>\n      <td>None</td>\n      <td>PQS</td>\n      <td>0AK</td>\n      <td>US</td>\n      <td>US-AK</td>\n      <td>0AK</td>\n      <td>Pilot Station</td>\n      <td>Pilot Station Airport</td>\n      <td>small_airport</td>\n    </tr>\n    <tr>\n      <th>677</th>\n      <td>NA</td>\n      <td>-106.928341, 38.851918</td>\n      <td>8980.0</td>\n      <td>0CO2</td>\n      <td>CSE</td>\n      <td>0CO2</td>\n      <td>US</td>\n      <td>US-CO</td>\n      <td>0CO2</td>\n      <td>Crested Butte</td>\n      <td>Crested Butte Airpark</td>\n      <td>small_airport</td>\n    </tr>\n    <tr>\n      <th>1094</th>\n      <td>NA</td>\n      <td>-98.62249755859999, 30.251800537100003</td>\n      <td>1515.0</td>\n      <td>0TE7</td>\n      <td>JCY</td>\n      <td>0TE7</td>\n      <td>US</td>\n      <td>US-TX</td>\n      <td>0TE7</td>\n      <td>Johnson City</td>\n      <td>LBJ Ranch Airport</td>\n      <td>small_airport</td>\n    </tr>\n    <tr>\n      <th>1408</th>\n      <td>NA</td>\n      <td>-72.31140136719999, 42.223300933800004</td>\n      <td>418.0</td>\n      <td>13MA</td>\n      <td>PMX</td>\n      <td>13MA</td>\n      <td>US</td>\n      <td>US-MA</td>\n      <td>13MA</td>\n      <td>Palmer</td>\n      <td>Metropolitan Airport</td>\n      <td>small_airport</td>\n    </tr>\n    <tr>\n      <th>...</th>\n      <td>...</td>\n      <td>...</td>\n      <td>...</td>\n      <td>...</td>\n      <td>...</td>\n      <td>...</td>\n      <td>...</td>\n      <td>...</td>\n      <td>...</td>\n      <td>...</td>\n      <td>...</td>\n      <td>...</td>\n    </tr>\n    <tr>\n      <th>56907</th>\n      <td>NA</td>\n      <td>-133.79699707, 55.9663009644</td>\n      <td>0.0</td>\n      <td>Z71</td>\n      <td>CZP</td>\n      <td>Z71</td>\n      <td>US</td>\n      <td>US-AK</td>\n      <td>Z71</td>\n      <td>Cape Pole</td>\n      <td>Cape Pole Seaplane Base</td>\n      <td>seaplane_base</td>\n    </tr>\n    <tr>\n      <th>56908</th>\n      <td>NA</td>\n      <td>-158.401000977, 56.295600891099994</td>\n      <td>NaN</td>\n      <td>Z78</td>\n      <td>KBW</td>\n      <td>Z78</td>\n      <td>US</td>\n      <td>US-AK</td>\n      <td>Z78</td>\n      <td>Chignik</td>\n      <td>Chignik Bay Seaplane Base</td>\n      <td>seaplane_base</td>\n    </tr>\n    <tr>\n      <th>56913</th>\n      <td>NA</td>\n      <td>-145.824005127, 66.2740020752</td>\n      <td>450.0</td>\n      <td>Z91</td>\n      <td>KBC</td>\n      <td>Z91</td>\n      <td>US</td>\n      <td>US-AK</td>\n      <td>Z91</td>\n      <td>Birch Creek</td>\n      <td>Birch Creek Airport</td>\n      <td>small_airport</td>\n    </tr>\n    <tr>\n      <th>56915</th>\n      <td>NA</td>\n      <td>-145.294006348, 61.9412002563</td>\n      <td>1150.0</td>\n      <td>Z93</td>\n      <td>CZC</td>\n      <td>Z93</td>\n      <td>US</td>\n      <td>US-AK</td>\n      <td>Z93</td>\n      <td>Copper Center</td>\n      <td>Copper Center 2 Airport</td>\n      <td>small_airport</td>\n    </tr>\n    <tr>\n      <th>57238</th>\n      <td>NA</td>\n      <td>-159.994003296, 60.9807014465</td>\n      <td>460.0</td>\n      <td>ZNC</td>\n      <td>ZNC</td>\n      <td>ZNC</td>\n      <td>US</td>\n      <td>US-AK</td>\n      <td>ZNC</td>\n      <td>Nyac</td>\n      <td>Nyac Airport</td>\n      <td>small_airport</td>\n    </tr>\n  </tbody>\n</table>\n<p>2028 rows × 12 columns</p>\n</div>"
     },
     "metadata": {},
     "execution_count": 9
    }
   ],
   "source": [
    "us_iata_airports = airports[airports['iso_country'] == 'US'].dropna(subset=['iata_code']).drop_duplicates(subset=['iata_code'])\n",
    "us_iata_airports"
   ]
  },
  {
   "source": [
    "Around 2,000 airports remain, and the airport types are as follows:"
   ],
   "cell_type": "markdown",
   "metadata": {}
  },
  {
   "cell_type": "code",
   "execution_count": 10,
   "metadata": {},
   "outputs": [
    {
     "output_type": "execute_result",
     "data": {
      "text/plain": [
       "array(['small_airport', 'seaplane_base', 'closed', 'medium_airport',\n",
       "       'heliport', 'large_airport'], dtype=object)"
      ]
     },
     "metadata": {},
     "execution_count": 10
    }
   ],
   "source": [
    "us_iata_airports['type'].unique()"
   ]
  },
  {
   "source": [
    "## Flight data"
   ],
   "cell_type": "markdown",
   "metadata": {}
  },
  {
   "source": [
    "The flight data is in CSV format, with one CSV file per month for the year of 2019. In the data pipeline I will use all of the data, but here let's just have a look at a a few of the months:"
   ],
   "cell_type": "markdown",
   "metadata": {}
  },
  {
   "cell_type": "code",
   "execution_count": 27,
   "metadata": {},
   "outputs": [
    {
     "output_type": "execute_result",
     "data": {
      "text/plain": [
       "           FL_DATE ORIGIN       ORIGIN_CITY_NAME ORIGIN_STATE_ABR DEST  \\\n",
       "0       2019-01-01    PIT         Pittsburgh, PA               PA  CLT   \n",
       "1       2019-01-01    DFW  Dallas/Fort Worth, TX               TX  SEA   \n",
       "2       2019-01-01    SEA            Seattle, WA               WA  DFW   \n",
       "3       2019-01-01    MCO            Orlando, FL               FL  PHL   \n",
       "4       2019-01-01    PHL       Philadelphia, PA               PA  MCO   \n",
       "...            ...    ...                    ...              ...  ...   \n",
       "632069  2019-03-31    DCA         Washington, DC               VA  MHT   \n",
       "632070  2019-03-31    MHT         Manchester, NH               NH  DCA   \n",
       "632071  2019-03-31    DCA         Washington, DC               VA  RDU   \n",
       "632072  2019-03-31    PHL       Philadelphia, PA               PA  BNA   \n",
       "632073  2019-03-31    CLT          Charlotte, NC               NC  MSY   \n",
       "\n",
       "               DEST_CITY_NAME DEST_STATE_ABR CRS_DEP_TIME DEP_TIME TAXI_OUT  \\\n",
       "0               Charlotte, NC             NC         0701     0657     14.0   \n",
       "1                 Seattle, WA             WA         0910     0948     13.0   \n",
       "2       Dallas/Fort Worth, TX             TX         1250     1250     13.0   \n",
       "3            Philadelphia, PA             PA         1632     1620     14.0   \n",
       "4                 Orlando, FL             FL         1245     1239     11.0   \n",
       "...                       ...            ...          ...      ...      ...   \n",
       "632069         Manchester, NH             NH         1505     1459     18.0   \n",
       "632070         Washington, DC             VA         1717     1709     13.0   \n",
       "632071     Raleigh/Durham, NC             NC         0700     0656     11.0   \n",
       "632072          Nashville, TN             TN         1245     1237     11.0   \n",
       "632073        New Orleans, LA             LA         2240     2234     26.0   \n",
       "\n",
       "        ... ACTUAL_ELAPSED_TIME AIR_TIME FLIGHTS DISTANCE CARRIER_DELAY  \\\n",
       "0       ...                86.0     67.0     1.0    366.0           NaN   \n",
       "1       ...               250.0    225.0     1.0   1660.0           NaN   \n",
       "2       ...               264.0    201.0     1.0   1660.0           0.0   \n",
       "3       ...               135.0    116.0     1.0    861.0           NaN   \n",
       "4       ...               152.0    129.0     1.0    861.0           NaN   \n",
       "...     ...                 ...      ...     ...      ...           ...   \n",
       "632069  ...                87.0     63.0     1.0    406.0           NaN   \n",
       "632070  ...               138.0    120.0     1.0    406.0           0.0   \n",
       "632071  ...                61.0     44.0     1.0    227.0           NaN   \n",
       "632072  ...               127.0    109.0     1.0    675.0           NaN   \n",
       "632073  ...               140.0    107.0     1.0    651.0           NaN   \n",
       "\n",
       "       WEATHER_DELAY NAS_DELAY SECURITY_DELAY LATE_AIRCRAFT_DELAY Unnamed: 27  \n",
       "0                NaN       NaN            NaN                 NaN         NaN  \n",
       "1                NaN       NaN            NaN                 NaN         NaN  \n",
       "2                0.0      24.0            0.0                 0.0         NaN  \n",
       "3                NaN       NaN            NaN                 NaN         NaN  \n",
       "4                NaN       NaN            NaN                 NaN         NaN  \n",
       "...              ...       ...            ...                 ...         ...  \n",
       "632069           NaN       NaN            NaN                 NaN         NaN  \n",
       "632070           0.0      27.0            0.0                 0.0         NaN  \n",
       "632071           NaN       NaN            NaN                 NaN         NaN  \n",
       "632072           NaN       NaN            NaN                 NaN         NaN  \n",
       "632073           NaN       NaN            NaN                 NaN         NaN  \n",
       "\n",
       "[1749234 rows x 28 columns]"
      ],
      "text/html": "<div>\n<style scoped>\n    .dataframe tbody tr th:only-of-type {\n        vertical-align: middle;\n    }\n\n    .dataframe tbody tr th {\n        vertical-align: top;\n    }\n\n    .dataframe thead th {\n        text-align: right;\n    }\n</style>\n<table border=\"1\" class=\"dataframe\">\n  <thead>\n    <tr style=\"text-align: right;\">\n      <th></th>\n      <th>FL_DATE</th>\n      <th>ORIGIN</th>\n      <th>ORIGIN_CITY_NAME</th>\n      <th>ORIGIN_STATE_ABR</th>\n      <th>DEST</th>\n      <th>DEST_CITY_NAME</th>\n      <th>DEST_STATE_ABR</th>\n      <th>CRS_DEP_TIME</th>\n      <th>DEP_TIME</th>\n      <th>TAXI_OUT</th>\n      <th>...</th>\n      <th>ACTUAL_ELAPSED_TIME</th>\n      <th>AIR_TIME</th>\n      <th>FLIGHTS</th>\n      <th>DISTANCE</th>\n      <th>CARRIER_DELAY</th>\n      <th>WEATHER_DELAY</th>\n      <th>NAS_DELAY</th>\n      <th>SECURITY_DELAY</th>\n      <th>LATE_AIRCRAFT_DELAY</th>\n      <th>Unnamed: 27</th>\n    </tr>\n  </thead>\n  <tbody>\n    <tr>\n      <th>0</th>\n      <td>2019-01-01</td>\n      <td>PIT</td>\n      <td>Pittsburgh, PA</td>\n      <td>PA</td>\n      <td>CLT</td>\n      <td>Charlotte, NC</td>\n      <td>NC</td>\n      <td>0701</td>\n      <td>0657</td>\n      <td>14.0</td>\n      <td>...</td>\n      <td>86.0</td>\n      <td>67.0</td>\n      <td>1.0</td>\n      <td>366.0</td>\n      <td>NaN</td>\n      <td>NaN</td>\n      <td>NaN</td>\n      <td>NaN</td>\n      <td>NaN</td>\n      <td>NaN</td>\n    </tr>\n    <tr>\n      <th>1</th>\n      <td>2019-01-01</td>\n      <td>DFW</td>\n      <td>Dallas/Fort Worth, TX</td>\n      <td>TX</td>\n      <td>SEA</td>\n      <td>Seattle, WA</td>\n      <td>WA</td>\n      <td>0910</td>\n      <td>0948</td>\n      <td>13.0</td>\n      <td>...</td>\n      <td>250.0</td>\n      <td>225.0</td>\n      <td>1.0</td>\n      <td>1660.0</td>\n      <td>NaN</td>\n      <td>NaN</td>\n      <td>NaN</td>\n      <td>NaN</td>\n      <td>NaN</td>\n      <td>NaN</td>\n    </tr>\n    <tr>\n      <th>2</th>\n      <td>2019-01-01</td>\n      <td>SEA</td>\n      <td>Seattle, WA</td>\n      <td>WA</td>\n      <td>DFW</td>\n      <td>Dallas/Fort Worth, TX</td>\n      <td>TX</td>\n      <td>1250</td>\n      <td>1250</td>\n      <td>13.0</td>\n      <td>...</td>\n      <td>264.0</td>\n      <td>201.0</td>\n      <td>1.0</td>\n      <td>1660.0</td>\n      <td>0.0</td>\n      <td>0.0</td>\n      <td>24.0</td>\n      <td>0.0</td>\n      <td>0.0</td>\n      <td>NaN</td>\n    </tr>\n    <tr>\n      <th>3</th>\n      <td>2019-01-01</td>\n      <td>MCO</td>\n      <td>Orlando, FL</td>\n      <td>FL</td>\n      <td>PHL</td>\n      <td>Philadelphia, PA</td>\n      <td>PA</td>\n      <td>1632</td>\n      <td>1620</td>\n      <td>14.0</td>\n      <td>...</td>\n      <td>135.0</td>\n      <td>116.0</td>\n      <td>1.0</td>\n      <td>861.0</td>\n      <td>NaN</td>\n      <td>NaN</td>\n      <td>NaN</td>\n      <td>NaN</td>\n      <td>NaN</td>\n      <td>NaN</td>\n    </tr>\n    <tr>\n      <th>4</th>\n      <td>2019-01-01</td>\n      <td>PHL</td>\n      <td>Philadelphia, PA</td>\n      <td>PA</td>\n      <td>MCO</td>\n      <td>Orlando, FL</td>\n      <td>FL</td>\n      <td>1245</td>\n      <td>1239</td>\n      <td>11.0</td>\n      <td>...</td>\n      <td>152.0</td>\n      <td>129.0</td>\n      <td>1.0</td>\n      <td>861.0</td>\n      <td>NaN</td>\n      <td>NaN</td>\n      <td>NaN</td>\n      <td>NaN</td>\n      <td>NaN</td>\n      <td>NaN</td>\n    </tr>\n    <tr>\n      <th>...</th>\n      <td>...</td>\n      <td>...</td>\n      <td>...</td>\n      <td>...</td>\n      <td>...</td>\n      <td>...</td>\n      <td>...</td>\n      <td>...</td>\n      <td>...</td>\n      <td>...</td>\n      <td>...</td>\n      <td>...</td>\n      <td>...</td>\n      <td>...</td>\n      <td>...</td>\n      <td>...</td>\n      <td>...</td>\n      <td>...</td>\n      <td>...</td>\n      <td>...</td>\n      <td>...</td>\n    </tr>\n    <tr>\n      <th>632069</th>\n      <td>2019-03-31</td>\n      <td>DCA</td>\n      <td>Washington, DC</td>\n      <td>VA</td>\n      <td>MHT</td>\n      <td>Manchester, NH</td>\n      <td>NH</td>\n      <td>1505</td>\n      <td>1459</td>\n      <td>18.0</td>\n      <td>...</td>\n      <td>87.0</td>\n      <td>63.0</td>\n      <td>1.0</td>\n      <td>406.0</td>\n      <td>NaN</td>\n      <td>NaN</td>\n      <td>NaN</td>\n      <td>NaN</td>\n      <td>NaN</td>\n      <td>NaN</td>\n    </tr>\n    <tr>\n      <th>632070</th>\n      <td>2019-03-31</td>\n      <td>MHT</td>\n      <td>Manchester, NH</td>\n      <td>NH</td>\n      <td>DCA</td>\n      <td>Washington, DC</td>\n      <td>VA</td>\n      <td>1717</td>\n      <td>1709</td>\n      <td>13.0</td>\n      <td>...</td>\n      <td>138.0</td>\n      <td>120.0</td>\n      <td>1.0</td>\n      <td>406.0</td>\n      <td>0.0</td>\n      <td>0.0</td>\n      <td>27.0</td>\n      <td>0.0</td>\n      <td>0.0</td>\n      <td>NaN</td>\n    </tr>\n    <tr>\n      <th>632071</th>\n      <td>2019-03-31</td>\n      <td>DCA</td>\n      <td>Washington, DC</td>\n      <td>VA</td>\n      <td>RDU</td>\n      <td>Raleigh/Durham, NC</td>\n      <td>NC</td>\n      <td>0700</td>\n      <td>0656</td>\n      <td>11.0</td>\n      <td>...</td>\n      <td>61.0</td>\n      <td>44.0</td>\n      <td>1.0</td>\n      <td>227.0</td>\n      <td>NaN</td>\n      <td>NaN</td>\n      <td>NaN</td>\n      <td>NaN</td>\n      <td>NaN</td>\n      <td>NaN</td>\n    </tr>\n    <tr>\n      <th>632072</th>\n      <td>2019-03-31</td>\n      <td>PHL</td>\n      <td>Philadelphia, PA</td>\n      <td>PA</td>\n      <td>BNA</td>\n      <td>Nashville, TN</td>\n      <td>TN</td>\n      <td>1245</td>\n      <td>1237</td>\n      <td>11.0</td>\n      <td>...</td>\n      <td>127.0</td>\n      <td>109.0</td>\n      <td>1.0</td>\n      <td>675.0</td>\n      <td>NaN</td>\n      <td>NaN</td>\n      <td>NaN</td>\n      <td>NaN</td>\n      <td>NaN</td>\n      <td>NaN</td>\n    </tr>\n    <tr>\n      <th>632073</th>\n      <td>2019-03-31</td>\n      <td>CLT</td>\n      <td>Charlotte, NC</td>\n      <td>NC</td>\n      <td>MSY</td>\n      <td>New Orleans, LA</td>\n      <td>LA</td>\n      <td>2240</td>\n      <td>2234</td>\n      <td>26.0</td>\n      <td>...</td>\n      <td>140.0</td>\n      <td>107.0</td>\n      <td>1.0</td>\n      <td>651.0</td>\n      <td>NaN</td>\n      <td>NaN</td>\n      <td>NaN</td>\n      <td>NaN</td>\n      <td>NaN</td>\n      <td>NaN</td>\n    </tr>\n  </tbody>\n</table>\n<p>1749234 rows × 28 columns</p>\n</div>"
     },
     "metadata": {},
     "execution_count": 27
    }
   ],
   "source": [
    "flights = pd.concat((pd.read_csv(f\"s3a://atr-udacity-dend/flightdata/2019/{month}.csv\", dtype=str) for month in [\"01\", \"02\", \"03\"]))\n",
    "flights"
   ]
  },
  {
   "source": [
    "There are too many columns to print out, so let's look at all columns just for the first row of data:"
   ],
   "cell_type": "markdown",
   "metadata": {}
  },
  {
   "cell_type": "code",
   "execution_count": 28,
   "metadata": {},
   "outputs": [
    {
     "output_type": "execute_result",
     "data": {
      "text/plain": [
       "FL_DATE                    2019-01-01\n",
       "ORIGIN                            PIT\n",
       "ORIGIN_CITY_NAME       Pittsburgh, PA\n",
       "ORIGIN_STATE_ABR                   PA\n",
       "DEST                              CLT\n",
       "DEST_CITY_NAME          Charlotte, NC\n",
       "DEST_STATE_ABR                     NC\n",
       "CRS_DEP_TIME                     0701\n",
       "DEP_TIME                         0657\n",
       "TAXI_OUT                         14.0\n",
       "WHEELS_OFF                       0711\n",
       "WHEELS_ON                        0818\n",
       "TAXI_IN                           5.0\n",
       "CRS_ARR_TIME                     0849\n",
       "ARR_TIME                         0823\n",
       "CANCELLED                         0.0\n",
       "CANCELLATION_CODE                 NaN\n",
       "CRS_ELAPSED_TIME                108.0\n",
       "ACTUAL_ELAPSED_TIME              86.0\n",
       "AIR_TIME                         67.0\n",
       "FLIGHTS                           1.0\n",
       "DISTANCE                        366.0\n",
       "CARRIER_DELAY                     NaN\n",
       "WEATHER_DELAY                     NaN\n",
       "NAS_DELAY                         NaN\n",
       "SECURITY_DELAY                    NaN\n",
       "LATE_AIRCRAFT_DELAY               NaN\n",
       "Unnamed: 27                       NaN\n",
       "Name: 0, dtype: object"
      ]
     },
     "metadata": {},
     "execution_count": 28
    }
   ],
   "source": [
    "flights.iloc[0]"
   ]
  },
  {
   "source": [
    "The data contains a flight date, origin and destination airports identified by the 3-letter international IATA code, as well as several timestamps and duration columns. Timestamps are encoded as four digits and identify scheduled and actual departure/arrival times, and wheels on/off times. Durations encoded as number of minutes measure taxi time and delays.\n",
    "\n",
    "Looking closer at the columns shows the origin/destination data is always available, the planned departure/arrival times are available as well, but the actual times and delays are not always present:"
   ],
   "cell_type": "markdown",
   "metadata": {}
  },
  {
   "cell_type": "code",
   "execution_count": 29,
   "metadata": {},
   "outputs": [
    {
     "output_type": "stream",
     "name": "stdout",
     "text": [
      "<class 'pandas.core.frame.DataFrame'>\nInt64Index: 1749234 entries, 0 to 632073\nData columns (total 28 columns):\n #   Column               Dtype \n---  ------               ----- \n 0   FL_DATE              object\n 1   ORIGIN               object\n 2   ORIGIN_CITY_NAME     object\n 3   ORIGIN_STATE_ABR     object\n 4   DEST                 object\n 5   DEST_CITY_NAME       object\n 6   DEST_STATE_ABR       object\n 7   CRS_DEP_TIME         object\n 8   DEP_TIME             object\n 9   TAXI_OUT             object\n 10  WHEELS_OFF           object\n 11  WHEELS_ON            object\n 12  TAXI_IN              object\n 13  CRS_ARR_TIME         object\n 14  ARR_TIME             object\n 15  CANCELLED            object\n 16  CANCELLATION_CODE    object\n 17  CRS_ELAPSED_TIME     object\n 18  ACTUAL_ELAPSED_TIME  object\n 19  AIR_TIME             object\n 20  FLIGHTS              object\n 21  DISTANCE             object\n 22  CARRIER_DELAY        object\n 23  WEATHER_DELAY        object\n 24  NAS_DELAY            object\n 25  SECURITY_DELAY       object\n 26  LATE_AIRCRAFT_DELAY  object\n 27  Unnamed: 27          object\ndtypes: object(28)\nmemory usage: 387.0+ MB\n"
     ]
    }
   ],
   "source": [
    "flights.info()"
   ]
  },
  {
   "source": [
    "Here is an example of a delayed flight, in this case delayed 24 minutes caused by the National Air System (NAS_DELAY):"
   ],
   "cell_type": "markdown",
   "metadata": {}
  },
  {
   "cell_type": "code",
   "execution_count": 30,
   "metadata": {},
   "outputs": [
    {
     "output_type": "execute_result",
     "data": {
      "text/plain": [
       "FL_DATE                    2019-01-01\n",
       "ORIGIN                            PIT\n",
       "ORIGIN_CITY_NAME       Pittsburgh, PA\n",
       "ORIGIN_STATE_ABR                   PA\n",
       "DEST                              CLT\n",
       "DEST_CITY_NAME          Charlotte, NC\n",
       "DEST_STATE_ABR                     NC\n",
       "CRS_DEP_TIME                     0701\n",
       "DEP_TIME                         0657\n",
       "TAXI_OUT                         14.0\n",
       "WHEELS_OFF                       0711\n",
       "WHEELS_ON                        0818\n",
       "TAXI_IN                           5.0\n",
       "CRS_ARR_TIME                     0849\n",
       "ARR_TIME                         0823\n",
       "CANCELLED                         0.0\n",
       "CANCELLATION_CODE                 NaN\n",
       "CRS_ELAPSED_TIME                108.0\n",
       "ACTUAL_ELAPSED_TIME              86.0\n",
       "AIR_TIME                         67.0\n",
       "FLIGHTS                           1.0\n",
       "DISTANCE                        366.0\n",
       "CARRIER_DELAY                     NaN\n",
       "WEATHER_DELAY                     NaN\n",
       "NAS_DELAY                         NaN\n",
       "SECURITY_DELAY                    NaN\n",
       "LATE_AIRCRAFT_DELAY               NaN\n",
       "Unnamed: 27                       NaN\n",
       "Name: 0, dtype: object"
      ]
     },
     "metadata": {},
     "execution_count": 30
    }
   ],
   "source": [
    "flights[flights['ACTUAL_ELAPSED_TIME'] > flights['CRS_ELAPSED_TIME']].iloc[0]"
   ]
  },
  {
   "source": [
    "Here is an example of a cancelled flight with cancellation code B (weather):"
   ],
   "cell_type": "markdown",
   "metadata": {}
  },
  {
   "cell_type": "code",
   "execution_count": 31,
   "metadata": {},
   "outputs": [
    {
     "output_type": "execute_result",
     "data": {
      "text/plain": [
       "FL_DATE                   2019-01-01\n",
       "ORIGIN                           CLT\n",
       "ORIGIN_CITY_NAME       Charlotte, NC\n",
       "ORIGIN_STATE_ABR                  NC\n",
       "DEST                             PNS\n",
       "DEST_CITY_NAME         Pensacola, FL\n",
       "DEST_STATE_ABR                    FL\n",
       "CRS_DEP_TIME                    1955\n",
       "DEP_TIME                        1953\n",
       "TAXI_OUT                        15.0\n",
       "WHEELS_OFF                      2008\n",
       "WHEELS_ON                        NaN\n",
       "TAXI_IN                          NaN\n",
       "CRS_ARR_TIME                    2044\n",
       "ARR_TIME                         NaN\n",
       "CANCELLED                        1.0\n",
       "CANCELLATION_CODE                  B\n",
       "CRS_ELAPSED_TIME               109.0\n",
       "ACTUAL_ELAPSED_TIME              NaN\n",
       "AIR_TIME                         NaN\n",
       "FLIGHTS                          1.0\n",
       "DISTANCE                       488.0\n",
       "CARRIER_DELAY                    NaN\n",
       "WEATHER_DELAY                    NaN\n",
       "NAS_DELAY                        NaN\n",
       "SECURITY_DELAY                   NaN\n",
       "LATE_AIRCRAFT_DELAY              NaN\n",
       "Unnamed: 27                      NaN\n",
       "Name: 536, dtype: object"
      ]
     },
     "metadata": {},
     "execution_count": 31
    }
   ],
   "source": [
    "flights[flights['CANCELLED'] == \"1.00\"].iloc[0]"
   ]
  },
  {
   "cell_type": "code",
   "execution_count": null,
   "metadata": {},
   "outputs": [],
   "source": []
  }
 ]
}